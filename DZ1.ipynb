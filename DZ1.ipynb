{
  "nbformat": 4,
  "nbformat_minor": 0,
  "metadata": {
    "colab": {
      "provenance": [],
      "collapsed_sections": [
        "xJef-8rXrMR2",
        "mleBdxygtTPs"
      ]
    },
    "kernelspec": {
      "name": "python3",
      "display_name": "Python 3"
    },
    "language_info": {
      "name": "python"
    },
    "gpuClass": "standard",
    "accelerator": "GPU"
  },
  "cells": [
    {
      "cell_type": "markdown",
      "source": [
        "# Библиотека Pytorch"
      ],
      "metadata": {
        "id": "xJef-8rXrMR2"
      }
    },
    {
      "cell_type": "markdown",
      "source": [
        "## Установка"
      ],
      "metadata": {
        "id": "mV8n8faxvOQO"
      }
    },
    {
      "cell_type": "markdown",
      "source": [
        "Ссылки для установки под ваше оборудование можно найти [тут](https://pytorch.org/get-started/locally/)."
      ],
      "metadata": {
        "id": "ZOyzr4Vp2vgZ"
      }
    },
    {
      "cell_type": "code",
      "source": [
        "import torch"
      ],
      "metadata": {
        "id": "b_dqa87wrRMu"
      },
      "execution_count": null,
      "outputs": []
    },
    {
      "cell_type": "code",
      "source": [
        "torch.cuda.is_available()"
      ],
      "metadata": {
        "colab": {
          "base_uri": "https://localhost:8080/"
        },
        "id": "2vcNoQZ4zVJG",
        "outputId": "436465ed-f1dc-400c-b48d-96cd4664183d"
      },
      "execution_count": null,
      "outputs": [
        {
          "output_type": "execute_result",
          "data": {
            "text/plain": [
              "True"
            ]
          },
          "metadata": {},
          "execution_count": 13
        }
      ]
    },
    {
      "cell_type": "code",
      "source": [
        "!python -m pip list | grep torch"
      ],
      "metadata": {
        "colab": {
          "base_uri": "https://localhost:8080/"
        },
        "id": "Fs_NS9SKzZeH",
        "outputId": "5df8539d-b103-4f19-8de9-9bd890198c56"
      },
      "execution_count": null,
      "outputs": [
        {
          "output_type": "stream",
          "name": "stdout",
          "text": [
            "torch                         1.12.1+cu113\n",
            "torchaudio                    0.12.1+cu113\n",
            "torchsummary                  1.5.1\n",
            "torchtext                     0.13.1\n",
            "torchvision                   0.13.1+cu113\n"
          ]
        }
      ]
    },
    {
      "cell_type": "markdown",
      "source": [
        "## Обзор возможностей и особенностей"
      ],
      "metadata": {
        "id": "W4qhspuX3zOE"
      }
    },
    {
      "cell_type": "markdown",
      "source": [
        "## Тензоры"
      ],
      "metadata": {
        "id": "mzgpHI4wuaPq"
      }
    },
    {
      "cell_type": "code",
      "source": [
        "a = torch.Tensor([1,2,3])\n",
        "a"
      ],
      "metadata": {
        "colab": {
          "base_uri": "https://localhost:8080/"
        },
        "id": "gZ4nzBuys7an",
        "outputId": "43c8e62a-2c6f-4de3-f87c-fbbb43420da6"
      },
      "execution_count": null,
      "outputs": [
        {
          "output_type": "execute_result",
          "data": {
            "text/plain": [
              "tensor([1., 2., 3.])"
            ]
          },
          "metadata": {},
          "execution_count": 15
        }
      ]
    },
    {
      "cell_type": "code",
      "source": [
        "b = torch.tensor([1,2,3])\n",
        "b"
      ],
      "metadata": {
        "colab": {
          "base_uri": "https://localhost:8080/"
        },
        "id": "JLpBNC4Ys-Eu",
        "outputId": "43a44ec9-d1b8-4b48-9250-d5c98be9c4d0"
      },
      "execution_count": null,
      "outputs": [
        {
          "output_type": "execute_result",
          "data": {
            "text/plain": [
              "tensor([1, 2, 3])"
            ]
          },
          "metadata": {},
          "execution_count": 16
        }
      ]
    },
    {
      "cell_type": "markdown",
      "source": [
        "Типы данных"
      ],
      "metadata": {
        "id": "tNynZQ_2uc8l"
      }
    },
    {
      "cell_type": "code",
      "source": [
        "a.dtype, b.dtype"
      ],
      "metadata": {
        "colab": {
          "base_uri": "https://localhost:8080/"
        },
        "id": "evWkp5s7tllG",
        "outputId": "b5e55449-5119-4cc5-e05d-f8aa8d4b1754"
      },
      "execution_count": null,
      "outputs": [
        {
          "output_type": "execute_result",
          "data": {
            "text/plain": [
              "(torch.float32, torch.int64)"
            ]
          },
          "metadata": {},
          "execution_count": 17
        }
      ]
    },
    {
      "cell_type": "markdown",
      "source": [
        "Перевод данных в другой тип"
      ],
      "metadata": {
        "id": "d-ZmOf4Eufk3"
      }
    },
    {
      "cell_type": "code",
      "source": [
        "c = b.float()\n",
        "\n",
        "print(c, c.dtype)\n",
        "\n",
        "print(c.int(), c.int().dtype)\n",
        "print(c.long(), c.long().dtype)\n",
        "print(c.double(), c.double().dtype)"
      ],
      "metadata": {
        "colab": {
          "base_uri": "https://localhost:8080/"
        },
        "id": "KqTujW0xto6G",
        "outputId": "eaa6c8c9-4eb6-4a16-aeee-a725603331df"
      },
      "execution_count": null,
      "outputs": [
        {
          "output_type": "stream",
          "name": "stdout",
          "text": [
            "tensor([1., 2., 3.]) torch.float32\n",
            "tensor([1, 2, 3], dtype=torch.int32) torch.int32\n",
            "tensor([1, 2, 3]) torch.int64\n",
            "tensor([1., 2., 3.], dtype=torch.float64) torch.float64\n"
          ]
        }
      ]
    },
    {
      "cell_type": "code",
      "source": [
        "x = torch.rand(2, 3)\n",
        "print(x) \n",
        "print(x.device)\n",
        "print(x.dtype)"
      ],
      "metadata": {
        "colab": {
          "base_uri": "https://localhost:8080/"
        },
        "id": "KCHM15UEtRY0",
        "outputId": "da12a3a8-b398-4109-95bd-6800e747d91b"
      },
      "execution_count": null,
      "outputs": [
        {
          "output_type": "stream",
          "name": "stdout",
          "text": [
            "tensor([[0.3347, 0.3382, 0.5607],\n",
            "        [0.5498, 0.4611, 0.3889]])\n",
            "cpu\n",
            "torch.float32\n"
          ]
        }
      ]
    },
    {
      "cell_type": "markdown",
      "source": [
        "## Воспроизводимость результатов"
      ],
      "metadata": {
        "id": "Am-la7kqCDEl"
      }
    },
    {
      "cell_type": "code",
      "source": [
        "# для воспроизводимости результатов\n",
        "# не изменяйте и не удаляйте этот код\n",
        "from numpy.random import seed\n",
        "import random\n",
        "\n",
        "random.seed(0)\n",
        "seed(0)\n",
        "torch.manual_seed(0)"
      ],
      "metadata": {
        "id": "DT_4H6vQuWuk",
        "colab": {
          "base_uri": "https://localhost:8080/"
        },
        "outputId": "2204249e-9f56-4573-8a27-6e5dcad54975"
      },
      "execution_count": null,
      "outputs": [
        {
          "output_type": "execute_result",
          "data": {
            "text/plain": [
              "<torch._C.Generator at 0x7f2121941b70>"
            ]
          },
          "metadata": {},
          "execution_count": 20
        }
      ]
    },
    {
      "cell_type": "code",
      "source": [
        "!pip install pytorch-lightning -qqq"
      ],
      "metadata": {
        "id": "FqnA3ZPhkGul",
        "colab": {
          "base_uri": "https://localhost:8080/"
        },
        "outputId": "4c957b57-a12e-4c7c-eb27-eed26640e8f1"
      },
      "execution_count": null,
      "outputs": [
        {
          "output_type": "stream",
          "name": "stdout",
          "text": [
            "\u001b[K     |████████████████████████████████| 798 kB 30.4 MB/s \n",
            "\u001b[K     |████████████████████████████████| 512 kB 68.1 MB/s \n",
            "\u001b[K     |████████████████████████████████| 125 kB 68.0 MB/s \n",
            "\u001b[K     |████████████████████████████████| 87 kB 6.2 MB/s \n",
            "\u001b[?25h  Building wheel for fire (setup.py) ... \u001b[?25l\u001b[?25hdone\n"
          ]
        }
      ]
    },
    {
      "cell_type": "code",
      "source": [
        "import pytorch_lightning as pl"
      ],
      "metadata": {
        "id": "M2C8FkatkN7D"
      },
      "execution_count": null,
      "outputs": []
    },
    {
      "cell_type": "code",
      "source": [
        "from pytorch_lightning import seed_everything"
      ],
      "metadata": {
        "id": "lLO_HB6ukaKg"
      },
      "execution_count": null,
      "outputs": []
    },
    {
      "cell_type": "markdown",
      "source": [
        "Function that sets seed for pseudo-random number generators in: pytorch, numpy, python.random"
      ],
      "metadata": {
        "id": "_fRUnIZCkvhx"
      }
    },
    {
      "cell_type": "code",
      "source": [
        "seed_everything(0, workers=True)                "
      ],
      "metadata": {
        "colab": {
          "base_uri": "https://localhost:8080/"
        },
        "id": "LGhazHGdkhir",
        "outputId": "c29f72b4-4f8f-433f-d948-bf6aad176969"
      },
      "execution_count": null,
      "outputs": [
        {
          "output_type": "stream",
          "name": "stderr",
          "text": [
            "INFO:lightning_lite.utilities.seed:Global seed set to 0\n"
          ]
        },
        {
          "output_type": "execute_result",
          "data": {
            "text/plain": [
              "0"
            ]
          },
          "metadata": {},
          "execution_count": 24
        }
      ]
    },
    {
      "cell_type": "markdown",
      "source": [
        "Подробнее можно прочитать [тут](https://pytorch.org/docs/stable/notes/randomness.html)."
      ],
      "metadata": {
        "id": "P8TfCik9DFMf"
      }
    },
    {
      "cell_type": "markdown",
      "source": [
        "## CUDA"
      ],
      "metadata": {
        "id": "eKr7PQlLke2o"
      }
    },
    {
      "cell_type": "code",
      "source": [
        "# проверка доступности видеокарты, выбор устройства CPU или GPU\n",
        "device = torch.device('cuda' if torch.cuda.is_available() else 'cpu')\n",
        "device"
      ],
      "metadata": {
        "colab": {
          "base_uri": "https://localhost:8080/"
        },
        "id": "es3dbo7murKO",
        "outputId": "27826664-d98c-4547-a889-2f9133265876"
      },
      "execution_count": null,
      "outputs": [
        {
          "output_type": "execute_result",
          "data": {
            "text/plain": [
              "device(type='cuda')"
            ]
          },
          "metadata": {},
          "execution_count": 44
        }
      ]
    },
    {
      "cell_type": "markdown",
      "source": [
        "Данные нужно вручную переносить в видеопамять -- метод cuda. Перенос в оперативную память -- cpu. Альтернатива -- использование метода `.to(device)`. По умолчанию данные на cpu."
      ],
      "metadata": {
        "id": "3fTPaJAaC25o"
      }
    },
    {
      "cell_type": "code",
      "source": [
        "d = c.to(device)"
      ],
      "metadata": {
        "id": "t05HLcTEur0L"
      },
      "execution_count": null,
      "outputs": []
    },
    {
      "cell_type": "code",
      "source": [
        "import torch"
      ],
      "metadata": {
        "id": "9UXt23O4mx54"
      },
      "execution_count": null,
      "outputs": []
    },
    {
      "cell_type": "code",
      "source": [
        "torch.cuda.get_device_properties(0)"
      ],
      "metadata": {
        "colab": {
          "base_uri": "https://localhost:8080/"
        },
        "id": "Y2VjYSXykhKp",
        "outputId": "6e43b95b-2fa0-4555-e23b-e1c4e4a82299"
      },
      "execution_count": null,
      "outputs": [
        {
          "output_type": "execute_result",
          "data": {
            "text/plain": [
              "_CudaDeviceProperties(name='Tesla T4', major=7, minor=5, total_memory=15109MB, multi_processor_count=40)"
            ]
          },
          "metadata": {},
          "execution_count": 28
        }
      ]
    },
    {
      "cell_type": "code",
      "source": [
        "!nvidia-smi"
      ],
      "metadata": {
        "colab": {
          "base_uri": "https://localhost:8080/"
        },
        "id": "znSVINf1oN9s",
        "outputId": "110950a0-b6d6-4612-f771-9d6f400e5ed0"
      },
      "execution_count": null,
      "outputs": [
        {
          "output_type": "stream",
          "name": "stdout",
          "text": [
            "Thu Dec  1 08:03:00 2022       \n",
            "+-----------------------------------------------------------------------------+\n",
            "| NVIDIA-SMI 460.32.03    Driver Version: 460.32.03    CUDA Version: 11.2     |\n",
            "|-------------------------------+----------------------+----------------------+\n",
            "| GPU  Name        Persistence-M| Bus-Id        Disp.A | Volatile Uncorr. ECC |\n",
            "| Fan  Temp  Perf  Pwr:Usage/Cap|         Memory-Usage | GPU-Util  Compute M. |\n",
            "|                               |                      |               MIG M. |\n",
            "|===============================+======================+======================|\n",
            "|   0  Tesla T4            Off  | 00000000:00:04.0 Off |                    0 |\n",
            "| N/A   68C    P0    32W /  70W |    612MiB / 15109MiB |      0%      Default |\n",
            "|                               |                      |                  N/A |\n",
            "+-------------------------------+----------------------+----------------------+\n",
            "                                                                               \n",
            "+-----------------------------------------------------------------------------+\n",
            "| Processes:                                                                  |\n",
            "|  GPU   GI   CI        PID   Type   Process name                  GPU Memory |\n",
            "|        ID   ID                                                   Usage      |\n",
            "|=============================================================================|\n",
            "+-----------------------------------------------------------------------------+\n"
          ]
        }
      ]
    },
    {
      "cell_type": "code",
      "source": [
        "def allocate_empty_tensor(dim_size):\n",
        "  a=torch.zeros(4096,dim_size,dtype=torch.float32,device='cuda')"
      ],
      "metadata": {
        "id": "BWsfUTi0oQnG"
      },
      "execution_count": null,
      "outputs": []
    },
    {
      "cell_type": "code",
      "source": [
        "allocate_empty_tensor(2048)"
      ],
      "metadata": {
        "id": "pvUBeD9-phd2"
      },
      "execution_count": null,
      "outputs": []
    },
    {
      "cell_type": "code",
      "source": [
        "torch.cuda.memory_allocated()"
      ],
      "metadata": {
        "colab": {
          "base_uri": "https://localhost:8080/"
        },
        "id": "qpJLSkedpdVK",
        "outputId": "7d3dd57f-b229-4b29-836f-bb0c33e8c9b3"
      },
      "execution_count": null,
      "outputs": [
        {
          "output_type": "execute_result",
          "data": {
            "text/plain": [
              "512"
            ]
          },
          "metadata": {},
          "execution_count": 185
        }
      ]
    },
    {
      "cell_type": "code",
      "source": [
        "torch.cuda.memory_reserved()"
      ],
      "metadata": {
        "colab": {
          "base_uri": "https://localhost:8080/"
        },
        "id": "PNbeLhzbp8Ch",
        "outputId": "13e900b6-6119-4137-c6fe-d51eccf3be50"
      },
      "execution_count": null,
      "outputs": [
        {
          "output_type": "execute_result",
          "data": {
            "text/plain": [
              "9833545728"
            ]
          },
          "metadata": {},
          "execution_count": 186
        }
      ]
    },
    {
      "cell_type": "code",
      "source": [
        "!nvidia-smi"
      ],
      "metadata": {
        "colab": {
          "base_uri": "https://localhost:8080/"
        },
        "id": "mN8IHOIcplaL",
        "outputId": "9716f7ee-5ccb-499c-f1e2-b74224b19307"
      },
      "execution_count": null,
      "outputs": [
        {
          "output_type": "stream",
          "name": "stdout",
          "text": [
            "Wed Nov 30 17:16:03 2022       \n",
            "+-----------------------------------------------------------------------------+\n",
            "| NVIDIA-SMI 460.32.03    Driver Version: 460.32.03    CUDA Version: 11.2     |\n",
            "|-------------------------------+----------------------+----------------------+\n",
            "| GPU  Name        Persistence-M| Bus-Id        Disp.A | Volatile Uncorr. ECC |\n",
            "| Fan  Temp  Perf  Pwr:Usage/Cap|         Memory-Usage | GPU-Util  Compute M. |\n",
            "|                               |                      |               MIG M. |\n",
            "|===============================+======================+======================|\n",
            "|   0  Tesla T4            Off  | 00000000:00:04.0 Off |                    0 |\n",
            "| N/A   71C    P0    28W /  70W |  10194MiB / 15109MiB |      0%      Default |\n",
            "|                               |                      |                  N/A |\n",
            "+-------------------------------+----------------------+----------------------+\n",
            "                                                                               \n",
            "+-----------------------------------------------------------------------------+\n",
            "| Processes:                                                                  |\n",
            "|  GPU   GI   CI        PID   Type   Process name                  GPU Memory |\n",
            "|        ID   ID                                                   Usage      |\n",
            "|=============================================================================|\n",
            "+-----------------------------------------------------------------------------+\n"
          ]
        }
      ]
    },
    {
      "cell_type": "code",
      "source": [
        "allocate_empty_tensor(10072)"
      ],
      "metadata": {
        "id": "3yNsBe_Apxlv"
      },
      "execution_count": null,
      "outputs": []
    },
    {
      "cell_type": "code",
      "source": [
        "torch.cuda.memory_reserved()"
      ],
      "metadata": {
        "colab": {
          "base_uri": "https://localhost:8080/"
        },
        "id": "Gbj8FG_GqFUG",
        "outputId": "3bcd968d-3aa0-4581-de90-d22152f75178"
      },
      "execution_count": null,
      "outputs": [
        {
          "output_type": "execute_result",
          "data": {
            "text/plain": [
              "218103808"
            ]
          },
          "metadata": {},
          "execution_count": 196
        }
      ]
    },
    {
      "cell_type": "code",
      "source": [
        "!nvidia-smi"
      ],
      "metadata": {
        "colab": {
          "base_uri": "https://localhost:8080/"
        },
        "id": "99PZakMWp3ZR",
        "outputId": "6c21cd8a-05aa-4633-fde9-d62c31f2b69e"
      },
      "execution_count": null,
      "outputs": [
        {
          "output_type": "stream",
          "name": "stdout",
          "text": [
            "Wed Nov 30 17:17:04 2022       \n",
            "+-----------------------------------------------------------------------------+\n",
            "| NVIDIA-SMI 460.32.03    Driver Version: 460.32.03    CUDA Version: 11.2     |\n",
            "|-------------------------------+----------------------+----------------------+\n",
            "| GPU  Name        Persistence-M| Bus-Id        Disp.A | Volatile Uncorr. ECC |\n",
            "| Fan  Temp  Perf  Pwr:Usage/Cap|         Memory-Usage | GPU-Util  Compute M. |\n",
            "|                               |                      |               MIG M. |\n",
            "|===============================+======================+======================|\n",
            "|   0  Tesla T4            Off  | 00000000:00:04.0 Off |                    0 |\n",
            "| N/A   71C    P0    28W /  70W |   1024MiB / 15109MiB |      0%      Default |\n",
            "|                               |                      |                  N/A |\n",
            "+-------------------------------+----------------------+----------------------+\n",
            "                                                                               \n",
            "+-----------------------------------------------------------------------------+\n",
            "| Processes:                                                                  |\n",
            "|  GPU   GI   CI        PID   Type   Process name                  GPU Memory |\n",
            "|        ID   ID                                                   Usage      |\n",
            "|=============================================================================|\n",
            "+-----------------------------------------------------------------------------+\n"
          ]
        }
      ]
    },
    {
      "cell_type": "code",
      "source": [
        "torch.cuda.memory_reserved()\n",
        "torch.cuda.empty_cache()\n",
        "torch.cuda.memory_reserved()"
      ],
      "metadata": {
        "colab": {
          "base_uri": "https://localhost:8080/"
        },
        "id": "hIAzc2PFqLRj",
        "outputId": "816ce686-53f4-4cf5-d3a5-a4e9cbaa2261"
      },
      "execution_count": null,
      "outputs": [
        {
          "output_type": "execute_result",
          "data": {
            "text/plain": [
              "2097152"
            ]
          },
          "metadata": {},
          "execution_count": 190
        }
      ]
    },
    {
      "cell_type": "code",
      "source": [
        "!nvidia-smi"
      ],
      "metadata": {
        "colab": {
          "base_uri": "https://localhost:8080/"
        },
        "id": "LlhvCLl0qNil",
        "outputId": "78428e54-f4bd-485a-bac2-bb961a25b79f"
      },
      "execution_count": null,
      "outputs": [
        {
          "output_type": "stream",
          "name": "stdout",
          "text": [
            "Wed Nov 30 15:49:16 2022       \n",
            "+-----------------------------------------------------------------------------+\n",
            "| NVIDIA-SMI 460.32.03    Driver Version: 460.32.03    CUDA Version: 11.2     |\n",
            "|-------------------------------+----------------------+----------------------+\n",
            "| GPU  Name        Persistence-M| Bus-Id        Disp.A | Volatile Uncorr. ECC |\n",
            "| Fan  Temp  Perf  Pwr:Usage/Cap|         Memory-Usage | GPU-Util  Compute M. |\n",
            "|                               |                      |               MIG M. |\n",
            "|===============================+======================+======================|\n",
            "|   0  Tesla T4            Off  | 00000000:00:04.0 Off |                    0 |\n",
            "| N/A   52C    P0    25W /  70W |    612MiB / 15109MiB |      0%      Default |\n",
            "|                               |                      |                  N/A |\n",
            "+-------------------------------+----------------------+----------------------+\n",
            "                                                                               \n",
            "+-----------------------------------------------------------------------------+\n",
            "| Processes:                                                                  |\n",
            "|  GPU   GI   CI        PID   Type   Process name                  GPU Memory |\n",
            "|        ID   ID                                                   Usage      |\n",
            "|=============================================================================|\n",
            "+-----------------------------------------------------------------------------+\n"
          ]
        }
      ]
    },
    {
      "cell_type": "code",
      "source": [
        "allocate_empty_tensor(600000)\n",
        "torch.cuda.memory_reserved()"
      ],
      "metadata": {
        "colab": {
          "base_uri": "https://localhost:8080/"
        },
        "id": "AmgQgvNKrBt5",
        "outputId": "82eb9795-6306-4c91-d47f-894ae1f945d4"
      },
      "execution_count": null,
      "outputs": [
        {
          "output_type": "execute_result",
          "data": {
            "text/plain": [
              "9833545728"
            ]
          },
          "metadata": {},
          "execution_count": 32
        }
      ]
    },
    {
      "cell_type": "markdown",
      "source": [
        "## Точность"
      ],
      "metadata": {
        "id": "mleBdxygtTPs"
      }
    },
    {
      "cell_type": "code",
      "source": [
        "torch.manual_seed(1337)\n",
        "x = torch.randn(5000, 5000)\n",
        "\n",
        "def matrix_power(x):\n",
        "  y = x @ x @ x @ x @ x @ x\n",
        "  return (y).sum().item()\n",
        "\n",
        "print(matrix_power(x))\n",
        "print(matrix_power(x.cuda()))"
      ],
      "metadata": {
        "colab": {
          "base_uri": "https://localhost:8080/"
        },
        "id": "DjHSkmVCtVy9",
        "outputId": "6f3e2a62-9a25-46d5-ad7c-09b921fc1dc7"
      },
      "execution_count": null,
      "outputs": [
        {
          "output_type": "stream",
          "name": "stdout",
          "text": [
            "27654770130944.0\n",
            "27654807879680.0\n"
          ]
        }
      ]
    },
    {
      "cell_type": "code",
      "source": [
        "print(matrix_power(x.numpy()))\n",
        "np.linalg.matrix_power(x.numpy(),6).sum()"
      ],
      "metadata": {
        "id": "Beplf35tnJ5x",
        "colab": {
          "base_uri": "https://localhost:8080/",
          "height": 208
        },
        "outputId": "b4797d40-17e0-4973-821a-3e27addfa675"
      },
      "execution_count": null,
      "outputs": [
        {
          "output_type": "stream",
          "name": "stdout",
          "text": [
            "27654791102464.0\n"
          ]
        },
        {
          "output_type": "error",
          "ename": "NameError",
          "evalue": "ignored",
          "traceback": [
            "\u001b[0;31m---------------------------------------------------------------------------\u001b[0m",
            "\u001b[0;31mNameError\u001b[0m                                 Traceback (most recent call last)",
            "\u001b[0;32m<ipython-input-34-ce5936578ee7>\u001b[0m in \u001b[0;36m<module>\u001b[0;34m\u001b[0m\n\u001b[1;32m      1\u001b[0m \u001b[0mprint\u001b[0m\u001b[0;34m(\u001b[0m\u001b[0mmatrix_power\u001b[0m\u001b[0;34m(\u001b[0m\u001b[0mx\u001b[0m\u001b[0;34m.\u001b[0m\u001b[0mnumpy\u001b[0m\u001b[0;34m(\u001b[0m\u001b[0;34m)\u001b[0m\u001b[0;34m)\u001b[0m\u001b[0;34m)\u001b[0m\u001b[0;34m\u001b[0m\u001b[0;34m\u001b[0m\u001b[0m\n\u001b[0;32m----> 2\u001b[0;31m \u001b[0mnp\u001b[0m\u001b[0;34m.\u001b[0m\u001b[0mlinalg\u001b[0m\u001b[0;34m.\u001b[0m\u001b[0mmatrix_power\u001b[0m\u001b[0;34m(\u001b[0m\u001b[0mx\u001b[0m\u001b[0;34m.\u001b[0m\u001b[0mnumpy\u001b[0m\u001b[0;34m(\u001b[0m\u001b[0;34m)\u001b[0m\u001b[0;34m,\u001b[0m\u001b[0;36m6\u001b[0m\u001b[0;34m)\u001b[0m\u001b[0;34m.\u001b[0m\u001b[0msum\u001b[0m\u001b[0;34m(\u001b[0m\u001b[0;34m)\u001b[0m\u001b[0;34m\u001b[0m\u001b[0;34m\u001b[0m\u001b[0m\n\u001b[0m",
            "\u001b[0;31mNameError\u001b[0m: name 'np' is not defined"
          ]
        }
      ]
    },
    {
      "cell_type": "markdown",
      "source": [
        "Takeaway: numerical precision of floating point computations can vary between libraries, environments and devices, and from the user side, it is often hard to resolve this issue altogether. Usually, this happens due to a different summation order in code or due to inherent nondeterminism of hardware.\n",
        "\n",
        "However, note that the relative error is small enough, which makes such blatant discrepancies less of a problem in regular deep learning code.\n"
      ],
      "metadata": {
        "id": "Dc1_1MmXnNTP"
      }
    },
    {
      "cell_type": "markdown",
      "source": [
        "## Нейроны и линейные слои"
      ],
      "metadata": {
        "id": "64d_Ywznwgbn"
      }
    },
    {
      "cell_type": "markdown",
      "source": [
        "![alt text](https://drive.google.com/uc?export=view&id=1k96ch-5lAGYrfBk4xgoty93xy-GP2bhr)\n"
      ],
      "metadata": {
        "id": "-OBSxEORsEMG"
      }
    },
    {
      "cell_type": "markdown",
      "source": [
        "![alt text](https://drive.google.com/uc?export=view&id=1ORawq1pZJ7a2z7vUD2PPyLELkOHoAB51)"
      ],
      "metadata": {
        "id": "4kiuzSRBQAte"
      }
    },
    {
      "cell_type": "markdown",
      "source": [
        "![изображение.png](data:image/png;base64,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)"
      ],
      "metadata": {
        "id": "TEFP_hPO5MO5"
      }
    },
    {
      "cell_type": "markdown",
      "source": [
        "![изображение.png](data:image/png;base64,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)"
      ],
      "metadata": {
        "id": "_gZo-8fW3PLu"
      }
    },
    {
      "cell_type": "code",
      "source": [
        "batch_size = 2 # Количество покупателей\n",
        "w = 4          # Количество существующих товаров\n",
        "m = 3          # Количество существующих магазинов\n",
        "\n",
        "# Матрица покупателей\n",
        "X = torch.rand(batch_size, w)\n",
        "\n",
        "# Матрица цен в магазине\n",
        "W = torch.rand(m,w)\n",
        "\n",
        "# Цена за топливо\n",
        "b = torch.rand(m)\n",
        "\n",
        "print(X.shape, W.shape, b.shape)\n",
        "\n",
        "print(X)\n",
        "\n",
        "answer = X @ W.T + b\n",
        "answer.shape"
      ],
      "metadata": {
        "colab": {
          "base_uri": "https://localhost:8080/"
        },
        "id": "nSl2PWA9JUpE",
        "outputId": "0697bec5-81ba-4f57-f09c-4d49cbf4a010"
      },
      "execution_count": null,
      "outputs": [
        {
          "output_type": "stream",
          "name": "stdout",
          "text": [
            "torch.Size([2, 4]) torch.Size([3, 4]) torch.Size([3])\n",
            "tensor([[0.5997, 0.7686, 0.8438, 0.6866],\n",
            "        [0.9745, 0.5593, 0.4227, 0.4468]])\n"
          ]
        },
        {
          "output_type": "execute_result",
          "data": {
            "text/plain": [
              "torch.Size([2, 3])"
            ]
          },
          "metadata": {},
          "execution_count": 35
        }
      ]
    },
    {
      "cell_type": "code",
      "source": [
        "linear = torch.nn.Linear(4, 3)\n",
        "out = linear(X)\n",
        "out.shape"
      ],
      "metadata": {
        "colab": {
          "base_uri": "https://localhost:8080/"
        },
        "id": "fI3aho-92ik5",
        "outputId": "17b7805b-b01d-4712-8f18-77c80f3b59b5"
      },
      "execution_count": null,
      "outputs": [
        {
          "output_type": "execute_result",
          "data": {
            "text/plain": [
              "torch.Size([2, 3])"
            ]
          },
          "metadata": {},
          "execution_count": 36
        }
      ]
    },
    {
      "cell_type": "code",
      "source": [
        "linear.weight.data.shape"
      ],
      "metadata": {
        "colab": {
          "base_uri": "https://localhost:8080/"
        },
        "id": "c4xuSW9EuxAx",
        "outputId": "dadff0c0-7cb3-4af5-b0bd-9f8ff7ed6d3a"
      },
      "execution_count": null,
      "outputs": [
        {
          "output_type": "execute_result",
          "data": {
            "text/plain": [
              "torch.Size([3, 4])"
            ]
          },
          "metadata": {},
          "execution_count": 37
        }
      ]
    },
    {
      "cell_type": "markdown",
      "source": [
        "### Встроенные слои"
      ],
      "metadata": {
        "id": "YS4WszpAvJl4"
      }
    },
    {
      "cell_type": "code",
      "source": [
        "from torch import nn # модуль с базовыми слоями\n",
        "import torch.nn.functional as F # модуль с базовыми функциями"
      ],
      "metadata": {
        "id": "N5BaifEM4rVz"
      },
      "execution_count": null,
      "outputs": []
    },
    {
      "cell_type": "code",
      "source": [
        "dir(nn)[:10]"
      ],
      "metadata": {
        "id": "UCzQK0As5BQM"
      },
      "execution_count": null,
      "outputs": []
    },
    {
      "cell_type": "markdown",
      "metadata": {
        "id": "34ox66u1jNBG"
      },
      "source": [
        "Два способа создания нейросети:\n",
        "  1. на основе готового класса `nn.Sequential` объединяющего отдельные слои\n",
        "    - данные передаются по сети в том порядке, в каком объявлены слои\n",
        "    - функции активации задаются как отдельные слои\n",
        "  2. свой класс для нейросети, на основе `nn.Module`\n",
        "    - порядок передачи данных можно менять во время обучения, переопределив forward - динамический граф вычислений\n",
        "\n",
        "Первый способ стоит использовать только как контейнер для ряда слоев. Неросеть нужно наследовать от `nn.Module`.\n"
      ]
    },
    {
      "cell_type": "code",
      "source": [
        "net_seq = nn.Sequential(\n",
        "    nn.Linear(in_features=3, out_features=5),\n",
        "    nn.Sigmoid(),\n",
        "    nn.Linear(in_features=5, out_features=2),                                                            \n",
        ")\n",
        "net_seq.to(device)\n",
        "net_seq"
      ],
      "metadata": {
        "id": "H17RdEIv7aOT"
      },
      "execution_count": null,
      "outputs": []
    },
    {
      "cell_type": "code",
      "source": [
        "net_seq(x)"
      ],
      "metadata": {
        "id": "v2xerVJ983e_"
      },
      "execution_count": null,
      "outputs": []
    },
    {
      "cell_type": "code",
      "source": [
        "class Model(nn.Module):\n",
        "    def __init__(self):\n",
        "        super().__init__()\n",
        "        self.fc1 = nn.Linear(in_features=3, out_features=5)\n",
        "        self.fc2 = nn.Linear(in_features=5, out_features=2)\n",
        "\n",
        "    def forward(self, x):\n",
        "        x = self.fc1(x)\n",
        "        return F.sigmoid(self.fc2(x))"
      ],
      "metadata": {
        "id": "Xt4BPLs3-7DT"
      },
      "execution_count": null,
      "outputs": []
    },
    {
      "cell_type": "code",
      "source": [
        "net_model = Model()\n",
        "net_model.to(device)\n",
        "net_model"
      ],
      "metadata": {
        "id": "n7csNM12_UYG"
      },
      "execution_count": null,
      "outputs": []
    },
    {
      "cell_type": "markdown",
      "source": [
        "### **Задача 1**. Посчитайте количество обучаемых параметров в сети net_seq и net_model."
      ],
      "metadata": {
        "id": "7bIrvcYJ_5jK"
      }
    },
    {
      "cell_type": "code",
      "source": [
        "# Ваш ответ"
      ],
      "metadata": {
        "id": "V_yJTNuxwIcl"
      },
      "execution_count": null,
      "outputs": []
    },
    {
      "cell_type": "markdown",
      "source": [
        "# Домашнее задание"
      ],
      "metadata": {
        "id": "DJ9Uxo7DEns4"
      }
    },
    {
      "cell_type": "markdown",
      "source": [
        "Дедлайн домашнего задания - текущее воскресенье 23:59. "
      ],
      "metadata": {
        "id": "3hbaklz_96EN"
      }
    },
    {
      "cell_type": "markdown",
      "source": [
        "**Домашнее задание 0:** Создайте репозиторий на Github. Вся дальнейшая домашка загружается туда. Чуть позже в телеграм чате будет выложена форма для сдачи."
      ],
      "metadata": {
        "id": "E7VzrzlHyyci"
      }
    },
    {
      "cell_type": "markdown",
      "source": [
        "**Домашнее задание 1:** реализуйте XOR с помощью 3 нейронов. Запишите ответ в виде выражения, состоящего из объектов neuron() – моделей нейрона с пороговой функцией активации, внутри скобок может быть что угодно. Входы верхнего уровня называются x1 и x2. Пример фрагмента записи: neuron(1*x1 + 5*x2 - 0.1) + neuron(x1) (ответ будет выглядеть чуть сложнее, но других символов вроде && не потребуется).\n",
        "\n",
        "\n",
        "Модель: >>\n",
        "\n",
        "(neuron1(-1*x1 - 1*x2 + 1.5) + neuron2(x1+x2) ) -> neuron(neuron1 + neuron2 - 1)\n"
      ],
      "metadata": {
        "id": "me6riR-YEuYg"
      }
    },
    {
      "cell_type": "code",
      "source": [
        "import torch\n",
        "from torch import nn # модуль с базовыми слоями\n",
        "import torch.nn.functional as F # модуль с базовыми функциями"
      ],
      "metadata": {
        "id": "wVvXUR9bkgPi"
      },
      "execution_count": null,
      "outputs": []
    },
    {
      "cell_type": "code",
      "source": [
        "#neuron1 = Neuron()\n",
        "\n",
        "class Neuron(torch.nn.Module):\n",
        "  def __init__(self):\n",
        "    super().__init__()\n",
        "    self.fc1 = nn.Linear(2,1)\n",
        "\n",
        "\n",
        "  def forward(self, x):\n",
        "    x1 = self.fc1(x)\n",
        "    return torch.heaviside(x1, torch.tensor([0.]))\n",
        "neuron1 = Neuron()\n",
        "neuron1.fc1.weight.data = torch.tensor([[1.0, 1.0]])\n",
        "neuron1.fc1.bias.data = torch.tensor([0.0])\n",
        "\n",
        "\n",
        "ne2 = Neuron()\n",
        "ne2.fc1.weight.data = torch.tensor([[-1.0,-1.0]]);\n",
        "ne2.fc1.bias.data = torch.tensor([1.5]); \n",
        "ne3 = Neuron()\n",
        "\n",
        "ne3.fc1.weight.data = torch.tensor([[1.0,1.0]])\n",
        "ne3.fc1.bias.data = torch.tensor([-1.0]); \n"
      ],
      "metadata": {
        "id": "rj4eUJseVc9C"
      },
      "execution_count": null,
      "outputs": []
    },
    {
      "cell_type": "code",
      "source": [
        "x2 = torch.tensor([1.0,0.0])\n",
        "xn = neuron1(x2) @ torch.tensor([[0.,1.]])\n",
        "xn2 = ne2(x2) @ torch.tensor([[1.,0.]])\n",
        "\n",
        "ne3(torch.add(xn,xn2)) #итоговый ответ"
      ],
      "metadata": {
        "colab": {
          "base_uri": "https://localhost:8080/"
        },
        "id": "btIrbvAXWHci",
        "outputId": "cfb6f8ae-ab6d-4961-934c-af583d49e727"
      },
      "execution_count": null,
      "outputs": [
        {
          "output_type": "execute_result",
          "data": {
            "text/plain": [
              "tensor([1.], grad_fn=<NotImplemented>)"
            ]
          },
          "metadata": {},
          "execution_count": 10
        }
      ]
    },
    {
      "cell_type": "markdown",
      "source": [
        "**Домашнее задание 2:** нарисуйте backward граф для выражения `a*b+c*d`. [Теория и пример оформления](https://www.youtube.com/watch?v=MswxJw-8PvE). Сравните полученные теоретические значения с аттрибутами grad у исходных тензоров."
      ],
      "metadata": {
        "id": "UQmVNc2kEyQP"
      }
    },
    {
      "cell_type": "code",
      "source": [
        "a = torch.tensor([2.0], requires_grad=True)\n",
        "b = torch.tensor([4.0], requires_grad=True)\n",
        "c = torch.tensor([1.0], requires_grad=True)\n",
        "d = torch.tensor([5.0], requires_grad=False)"
      ],
      "metadata": {
        "id": "rHAT-rNxnh-X"
      },
      "execution_count": null,
      "outputs": []
    },
    {
      "cell_type": "code",
      "source": [
        "print(a.grad)"
      ],
      "metadata": {
        "id": "yQUF6a8rnjyF",
        "colab": {
          "base_uri": "https://localhost:8080/"
        },
        "outputId": "d333aa89-8a66-4dd7-bc7c-5a6361cbab76"
      },
      "execution_count": null,
      "outputs": [
        {
          "output_type": "stream",
          "name": "stdout",
          "text": [
            "None\n"
          ]
        }
      ]
    },
    {
      "cell_type": "code",
      "source": [
        "loss = a*b + c*d\n",
        "loss.backward()"
      ],
      "metadata": {
        "id": "WQewq5DCnnPF"
      },
      "execution_count": null,
      "outputs": []
    },
    {
      "cell_type": "code",
      "source": [
        "print(a.grad)"
      ],
      "metadata": {
        "id": "tDxWZCwQnojN",
        "colab": {
          "base_uri": "https://localhost:8080/"
        },
        "outputId": "e48d06fc-d405-45dd-c2ed-9f79c301ce35"
      },
      "execution_count": null,
      "outputs": [
        {
          "output_type": "stream",
          "name": "stdout",
          "text": [
            "tensor([4.])\n"
          ]
        }
      ]
    },
    {
      "cell_type": "markdown",
      "source": [
        "![Безымянный.png](data:image/png;base64,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)"
      ],
      "metadata": {
        "id": "2ZU26va5rSRF"
      }
    },
    {
      "cell_type": "markdown",
      "source": [
        "**Домашнее задание 3:** Поэксперементируйте с размером тензоров, которые влезут на видеоркарту в Colab. Найдите максимальный размер тензора для типа данных float32, float64, float16, int32, int64. На сколько они отличаются."
      ],
      "metadata": {
        "id": "NxKEOwWDwv3Y"
      }
    },
    {
      "cell_type": "code",
      "source": [
        "import torch\n",
        "def allocate_empty_tensor(dim_size):\n",
        "  a=torch.zeros(4096,dim_size,dtype=torch.int64,device='cuda')"
      ],
      "metadata": {
        "id": "-qBgEL0Tesy-"
      },
      "execution_count": null,
      "outputs": []
    },
    {
      "cell_type": "code",
      "source": [
        "allocate_empty_tensor(475386)"
      ],
      "metadata": {
        "id": "ftl-OwWGiwsk"
      },
      "execution_count": null,
      "outputs": []
    },
    {
      "cell_type": "code",
      "source": [
        "torch.cuda.memory_reserved()"
      ],
      "metadata": {
        "colab": {
          "base_uri": "https://localhost:8080/"
        },
        "outputId": "834684a2-07d0-4623-f05b-f4832a43e5f9",
        "id": "4dByf2dSiwsk"
      },
      "execution_count": null,
      "outputs": [
        {
          "output_type": "execute_result",
          "data": {
            "text/plain": [
              "1971322880"
            ]
          },
          "metadata": {},
          "execution_count": 215
        }
      ]
    },
    {
      "cell_type": "markdown",
      "source": [
        "Для float32: (4096,914386)\n",
        "<br>\n",
        "float16: (4096,1758909)\n",
        "<br>\n",
        "float64: (4096,457918)\n",
        "<br>\n",
        "int64: (4096, 475386)\n",
        "<br>\n",
        "int32: (4096, 934919)\n",
        "<br>\n",
        "большая разница в силу области определения каждого типа"
      ],
      "metadata": {
        "id": "hh-q3YBogFH-"
      }
    },
    {
      "cell_type": "code",
      "source": [
        "!nvidia-smi"
      ],
      "metadata": {
        "colab": {
          "base_uri": "https://localhost:8080/"
        },
        "outputId": "bc598a35-6958-42da-d591-29a282bf0263",
        "id": "rfUYU_Gciwsk"
      },
      "execution_count": null,
      "outputs": [
        {
          "output_type": "stream",
          "name": "stdout",
          "text": [
            "Thu Dec  1 16:27:05 2022       \n",
            "+-----------------------------------------------------------------------------+\n",
            "| NVIDIA-SMI 460.32.03    Driver Version: 460.32.03    CUDA Version: 11.2     |\n",
            "|-------------------------------+----------------------+----------------------+\n",
            "| GPU  Name        Persistence-M| Bus-Id        Disp.A | Volatile Uncorr. ECC |\n",
            "| Fan  Temp  Perf  Pwr:Usage/Cap|         Memory-Usage | GPU-Util  Compute M. |\n",
            "|                               |                      |               MIG M. |\n",
            "|===============================+======================+======================|\n",
            "|   0  Tesla T4            Off  | 00000000:00:04.0 Off |                    0 |\n",
            "| N/A   52C    P0    26W /  70W |  15106MiB / 15109MiB |      0%      Default |\n",
            "|                               |                      |                  N/A |\n",
            "+-------------------------------+----------------------+----------------------+\n",
            "                                                                               \n",
            "+-----------------------------------------------------------------------------+\n",
            "| Processes:                                                                  |\n",
            "|  GPU   GI   CI        PID   Type   Process name                  GPU Memory |\n",
            "|        ID   ID                                                   Usage      |\n",
            "|=============================================================================|\n",
            "+-----------------------------------------------------------------------------+\n"
          ]
        }
      ]
    },
    {
      "cell_type": "code",
      "source": [
        "torch.cuda.memory_reserved()\n",
        "torch.cuda.empty_cache()\n",
        "torch.cuda.memory_reserved()"
      ],
      "metadata": {
        "colab": {
          "base_uri": "https://localhost:8080/"
        },
        "outputId": "927c6ad1-5f07-4ec6-b853-d43e3c39c76e",
        "id": "K-VPqPeiiwsk"
      },
      "execution_count": null,
      "outputs": [
        {
          "output_type": "execute_result",
          "data": {
            "text/plain": [
              "15200157696"
            ]
          },
          "metadata": {},
          "execution_count": 53
        }
      ]
    },
    {
      "cell_type": "markdown",
      "source": [
        "**Домашнее задание 4:** Напишите хороший пример неэффективного кода для занятия памяти видеокарты, который вызовет ошибку out of memory"
      ],
      "metadata": {
        "id": "CBR5pWOlzOtl"
      }
    },
    {
      "cell_type": "code",
      "source": [
        "list1 = [torch.rand(50000,50000)]\n"
      ],
      "metadata": {
        "id": "7ZK0qkDGq_3M"
      },
      "execution_count": null,
      "outputs": []
    },
    {
      "cell_type": "code",
      "source": [
        "list1 = [torch.rand(500,500,device=\"cuda\")]\n",
        "i=0\n",
        "while i<=19000:\n",
        "  i+=1\n",
        "  nten = torch.rand(500,500, device=\"cuda\")\n",
        "  list1.append(torch.add(nten,list1[-1]))\n",
        "# вычисление суммы каких либо тензоров"
      ],
      "metadata": {
        "colab": {
          "base_uri": "https://localhost:8080/",
          "height": 304
        },
        "id": "WTf5uM5jp8fE",
        "outputId": "bf89cb2b-5579-45b9-8de4-f6a487959db0"
      },
      "execution_count": null,
      "outputs": [
        {
          "output_type": "error",
          "ename": "RuntimeError",
          "evalue": "ignored",
          "traceback": [
            "\u001b[0;31m---------------------------------------------------------------------------\u001b[0m",
            "\u001b[0;31mRuntimeError\u001b[0m                              Traceback (most recent call last)",
            "\u001b[0;32m<ipython-input-52-714ab692f064>\u001b[0m in \u001b[0;36m<module>\u001b[0;34m\u001b[0m\n\u001b[1;32m      3\u001b[0m \u001b[0;32mwhile\u001b[0m \u001b[0mi\u001b[0m\u001b[0;34m<=\u001b[0m\u001b[0;36m19000\u001b[0m\u001b[0;34m:\u001b[0m\u001b[0;34m\u001b[0m\u001b[0;34m\u001b[0m\u001b[0m\n\u001b[1;32m      4\u001b[0m   \u001b[0mi\u001b[0m\u001b[0;34m+=\u001b[0m\u001b[0;36m1\u001b[0m\u001b[0;34m\u001b[0m\u001b[0;34m\u001b[0m\u001b[0m\n\u001b[0;32m----> 5\u001b[0;31m   \u001b[0mnten\u001b[0m \u001b[0;34m=\u001b[0m \u001b[0mtorch\u001b[0m\u001b[0;34m.\u001b[0m\u001b[0mrand\u001b[0m\u001b[0;34m(\u001b[0m\u001b[0;36m500\u001b[0m\u001b[0;34m,\u001b[0m\u001b[0;36m500\u001b[0m\u001b[0;34m,\u001b[0m \u001b[0mdevice\u001b[0m\u001b[0;34m=\u001b[0m\u001b[0;34m\"cuda\"\u001b[0m\u001b[0;34m)\u001b[0m\u001b[0;34m\u001b[0m\u001b[0;34m\u001b[0m\u001b[0m\n\u001b[0m\u001b[1;32m      6\u001b[0m   \u001b[0mlist1\u001b[0m\u001b[0;34m.\u001b[0m\u001b[0mappend\u001b[0m\u001b[0;34m(\u001b[0m\u001b[0mtorch\u001b[0m\u001b[0;34m.\u001b[0m\u001b[0madd\u001b[0m\u001b[0;34m(\u001b[0m\u001b[0mnten\u001b[0m\u001b[0;34m,\u001b[0m\u001b[0mlist1\u001b[0m\u001b[0;34m[\u001b[0m\u001b[0;34m-\u001b[0m\u001b[0;36m1\u001b[0m\u001b[0;34m]\u001b[0m\u001b[0;34m)\u001b[0m\u001b[0;34m)\u001b[0m\u001b[0;34m\u001b[0m\u001b[0;34m\u001b[0m\u001b[0m\n\u001b[1;32m      7\u001b[0m \u001b[0;34m\u001b[0m\u001b[0m\n",
            "\u001b[0;31mRuntimeError\u001b[0m: CUDA out of memory. Tried to allocate 2.00 MiB (GPU 0; 14.76 GiB total capacity; 13.51 GiB already allocated; 3.75 MiB free; 14.16 GiB reserved in total by PyTorch) If reserved memory is >> allocated memory try setting max_split_size_mb to avoid fragmentation.  See documentation for Memory Management and PYTORCH_CUDA_ALLOC_CONF"
          ]
        }
      ]
    },
    {
      "cell_type": "markdown",
      "source": [
        "**Домашнее задание 5:** Используя один линейный слой `nn.Linear` и один входной тензор `x` подберите подберите размерности так, чтобы занимать всю видеопамять.\n",
        "Попробуйте применить линейный слой к тензору `x`. Что произойдет? Кратко опишите ваши эксперименты. Что вы поняли?"
      ],
      "metadata": {
        "id": "0_hOtvvR89jq"
      }
    },
    {
      "cell_type": "code",
      "source": [
        "j = 660040\n",
        "x = torch.nn.Linear(j,j, device=\"cuda\")\n",
        "\n",
        "test = torch.rand(5000, j,device=\"cuda\")\n",
        "\n",
        "x(test)\n",
        "\n",
        "\n",
        "#при больших размерах не удасться либо зарезервировать на этапе создания нейрона или в процессе применения x к нейрону"
      ],
      "metadata": {
        "id": "OuhSKIMQxKnH",
        "colab": {
          "base_uri": "https://localhost:8080/",
          "height": 415
        },
        "outputId": "444db035-4842-4bdf-b0e8-051018b8026d"
      },
      "execution_count": null,
      "outputs": [
        {
          "output_type": "error",
          "ename": "RuntimeError",
          "evalue": "ignored",
          "traceback": [
            "\u001b[0;31m---------------------------------------------------------------------------\u001b[0m",
            "\u001b[0;31mRuntimeError\u001b[0m                              Traceback (most recent call last)",
            "\u001b[0;32m<ipython-input-8-f453486c8f4d>\u001b[0m in \u001b[0;36m<module>\u001b[0;34m\u001b[0m\n\u001b[0;32m----> 1\u001b[0;31m \u001b[0mt1\u001b[0m \u001b[0;34m=\u001b[0m \u001b[0mtorch\u001b[0m\u001b[0;34m.\u001b[0m\u001b[0mnn\u001b[0m\u001b[0;34m.\u001b[0m\u001b[0mLinear\u001b[0m\u001b[0;34m(\u001b[0m\u001b[0;36m62333\u001b[0m\u001b[0;34m,\u001b[0m\u001b[0;36m62333\u001b[0m\u001b[0;34m,\u001b[0m \u001b[0mdevice\u001b[0m\u001b[0;34m=\u001b[0m\u001b[0;34m\"cuda\"\u001b[0m\u001b[0;34m)\u001b[0m\u001b[0;34m\u001b[0m\u001b[0;34m\u001b[0m\u001b[0m\n\u001b[0m\u001b[1;32m      2\u001b[0m \u001b[0;34m\u001b[0m\u001b[0m\n\u001b[1;32m      3\u001b[0m \u001b[0mtest\u001b[0m \u001b[0;34m=\u001b[0m \u001b[0mtorch\u001b[0m\u001b[0;34m.\u001b[0m\u001b[0mrand\u001b[0m\u001b[0;34m(\u001b[0m\u001b[0;36m5000\u001b[0m\u001b[0;34m,\u001b[0m \u001b[0;36m62333\u001b[0m\u001b[0;34m,\u001b[0m\u001b[0mdevice\u001b[0m\u001b[0;34m=\u001b[0m\u001b[0;34m\"cuda\"\u001b[0m\u001b[0;34m)\u001b[0m\u001b[0;34m\u001b[0m\u001b[0;34m\u001b[0m\u001b[0m\n\u001b[1;32m      4\u001b[0m \u001b[0;34m\u001b[0m\u001b[0m\n\u001b[1;32m      5\u001b[0m \u001b[0mt1\u001b[0m\u001b[0;34m(\u001b[0m\u001b[0mtest\u001b[0m\u001b[0;34m)\u001b[0m\u001b[0;34m\u001b[0m\u001b[0;34m\u001b[0m\u001b[0m\n",
            "\u001b[0;32m/usr/local/lib/python3.8/dist-packages/torch/nn/modules/linear.py\u001b[0m in \u001b[0;36m__init__\u001b[0;34m(self, in_features, out_features, bias, device, dtype)\u001b[0m\n\u001b[1;32m     99\u001b[0m         \u001b[0;32melse\u001b[0m\u001b[0;34m:\u001b[0m\u001b[0;34m\u001b[0m\u001b[0;34m\u001b[0m\u001b[0m\n\u001b[1;32m    100\u001b[0m             \u001b[0mself\u001b[0m\u001b[0;34m.\u001b[0m\u001b[0mregister_parameter\u001b[0m\u001b[0;34m(\u001b[0m\u001b[0;34m'bias'\u001b[0m\u001b[0;34m,\u001b[0m \u001b[0;32mNone\u001b[0m\u001b[0;34m)\u001b[0m\u001b[0;34m\u001b[0m\u001b[0;34m\u001b[0m\u001b[0m\n\u001b[0;32m--> 101\u001b[0;31m         \u001b[0mself\u001b[0m\u001b[0;34m.\u001b[0m\u001b[0mreset_parameters\u001b[0m\u001b[0;34m(\u001b[0m\u001b[0;34m)\u001b[0m\u001b[0;34m\u001b[0m\u001b[0;34m\u001b[0m\u001b[0m\n\u001b[0m\u001b[1;32m    102\u001b[0m \u001b[0;34m\u001b[0m\u001b[0m\n\u001b[1;32m    103\u001b[0m     \u001b[0;32mdef\u001b[0m \u001b[0mreset_parameters\u001b[0m\u001b[0;34m(\u001b[0m\u001b[0mself\u001b[0m\u001b[0;34m)\u001b[0m \u001b[0;34m->\u001b[0m \u001b[0;32mNone\u001b[0m\u001b[0;34m:\u001b[0m\u001b[0;34m\u001b[0m\u001b[0;34m\u001b[0m\u001b[0m\n",
            "\u001b[0;32m/usr/local/lib/python3.8/dist-packages/torch/nn/modules/linear.py\u001b[0m in \u001b[0;36mreset_parameters\u001b[0;34m(self)\u001b[0m\n\u001b[1;32m    105\u001b[0m         \u001b[0;31m# uniform(-1/sqrt(in_features), 1/sqrt(in_features)). For details, see\u001b[0m\u001b[0;34m\u001b[0m\u001b[0;34m\u001b[0m\u001b[0;34m\u001b[0m\u001b[0m\n\u001b[1;32m    106\u001b[0m         \u001b[0;31m# https://github.com/pytorch/pytorch/issues/57109\u001b[0m\u001b[0;34m\u001b[0m\u001b[0;34m\u001b[0m\u001b[0;34m\u001b[0m\u001b[0m\n\u001b[0;32m--> 107\u001b[0;31m         \u001b[0minit\u001b[0m\u001b[0;34m.\u001b[0m\u001b[0mkaiming_uniform_\u001b[0m\u001b[0;34m(\u001b[0m\u001b[0mself\u001b[0m\u001b[0;34m.\u001b[0m\u001b[0mweight\u001b[0m\u001b[0;34m,\u001b[0m \u001b[0ma\u001b[0m\u001b[0;34m=\u001b[0m\u001b[0mmath\u001b[0m\u001b[0;34m.\u001b[0m\u001b[0msqrt\u001b[0m\u001b[0;34m(\u001b[0m\u001b[0;36m5\u001b[0m\u001b[0;34m)\u001b[0m\u001b[0;34m)\u001b[0m\u001b[0;34m\u001b[0m\u001b[0;34m\u001b[0m\u001b[0m\n\u001b[0m\u001b[1;32m    108\u001b[0m         \u001b[0;32mif\u001b[0m \u001b[0mself\u001b[0m\u001b[0;34m.\u001b[0m\u001b[0mbias\u001b[0m \u001b[0;32mis\u001b[0m \u001b[0;32mnot\u001b[0m \u001b[0;32mNone\u001b[0m\u001b[0;34m:\u001b[0m\u001b[0;34m\u001b[0m\u001b[0;34m\u001b[0m\u001b[0m\n\u001b[1;32m    109\u001b[0m             \u001b[0mfan_in\u001b[0m\u001b[0;34m,\u001b[0m \u001b[0m_\u001b[0m \u001b[0;34m=\u001b[0m \u001b[0minit\u001b[0m\u001b[0;34m.\u001b[0m\u001b[0m_calculate_fan_in_and_fan_out\u001b[0m\u001b[0;34m(\u001b[0m\u001b[0mself\u001b[0m\u001b[0;34m.\u001b[0m\u001b[0mweight\u001b[0m\u001b[0;34m)\u001b[0m\u001b[0;34m\u001b[0m\u001b[0;34m\u001b[0m\u001b[0m\n",
            "\u001b[0;32m/usr/local/lib/python3.8/dist-packages/torch/nn/init.py\u001b[0m in \u001b[0;36mkaiming_uniform_\u001b[0;34m(tensor, a, mode, nonlinearity)\u001b[0m\n\u001b[1;32m    410\u001b[0m     \u001b[0mbound\u001b[0m \u001b[0;34m=\u001b[0m \u001b[0mmath\u001b[0m\u001b[0;34m.\u001b[0m\u001b[0msqrt\u001b[0m\u001b[0;34m(\u001b[0m\u001b[0;36m3.0\u001b[0m\u001b[0;34m)\u001b[0m \u001b[0;34m*\u001b[0m \u001b[0mstd\u001b[0m  \u001b[0;31m# Calculate uniform bounds from standard deviation\u001b[0m\u001b[0;34m\u001b[0m\u001b[0;34m\u001b[0m\u001b[0m\n\u001b[1;32m    411\u001b[0m     \u001b[0;32mwith\u001b[0m \u001b[0mtorch\u001b[0m\u001b[0;34m.\u001b[0m\u001b[0mno_grad\u001b[0m\u001b[0;34m(\u001b[0m\u001b[0;34m)\u001b[0m\u001b[0;34m:\u001b[0m\u001b[0;34m\u001b[0m\u001b[0;34m\u001b[0m\u001b[0m\n\u001b[0;32m--> 412\u001b[0;31m         \u001b[0;32mreturn\u001b[0m \u001b[0mtensor\u001b[0m\u001b[0;34m.\u001b[0m\u001b[0muniform_\u001b[0m\u001b[0;34m(\u001b[0m\u001b[0;34m-\u001b[0m\u001b[0mbound\u001b[0m\u001b[0;34m,\u001b[0m \u001b[0mbound\u001b[0m\u001b[0;34m)\u001b[0m\u001b[0;34m\u001b[0m\u001b[0;34m\u001b[0m\u001b[0m\n\u001b[0m\u001b[1;32m    413\u001b[0m \u001b[0;34m\u001b[0m\u001b[0m\n\u001b[1;32m    414\u001b[0m \u001b[0;34m\u001b[0m\u001b[0m\n",
            "\u001b[0;31mRuntimeError\u001b[0m: CUDA error: out of memory\nCUDA kernel errors might be asynchronously reported at some other API call,so the stacktrace below might be incorrect.\nFor debugging consider passing CUDA_LAUNCH_BLOCKING=1."
          ]
        }
      ]
    },
    {
      "cell_type": "markdown",
      "source": [
        "Усложнение модели, то-есть увеличение количества признаков, либо опытов может осложнить обучение, поэтому следует либо оптимизировать и избавляться от маловлияющих признаков, либо увеличивать память видеокарты\n",
        "\n"
      ],
      "metadata": {
        "id": "tAeEbpLchkni"
      }
    },
    {
      "cell_type": "code",
      "source": [
        "import gc\n",
        "torch.cuda.empty_cache()\n",
        "gc.collect()"
      ],
      "metadata": {
        "colab": {
          "base_uri": "https://localhost:8080/"
        },
        "id": "W_dzvd_vzc6X",
        "outputId": "8e8e84aa-90ae-4141-dbf2-8951479b5b1d"
      },
      "execution_count": null,
      "outputs": [
        {
          "output_type": "execute_result",
          "data": {
            "text/plain": [
              "0"
            ]
          },
          "metadata": {},
          "execution_count": 6
        }
      ]
    }
  ]
}